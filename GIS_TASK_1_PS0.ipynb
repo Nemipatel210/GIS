{
  "nbformat": 4,
  "nbformat_minor": 0,
  "metadata": {
    "colab": {
      "provenance": [],
      "authorship_tag": "ABX9TyNpDdSw83wQYkIZS/flUTdX",
      "include_colab_link": true
    },
    "kernelspec": {
      "name": "python3",
      "display_name": "Python 3"
    },
    "language_info": {
      "name": "python"
    }
  },
  "cells": [
    {
      "cell_type": "markdown",
      "metadata": {
        "id": "view-in-github",
        "colab_type": "text"
      },
      "source": [
        "<a href=\"https://colab.research.google.com/github/Nemipatel210/GIS/blob/main/GIS_TASK_1_PS0.ipynb\" target=\"_parent\"><img src=\"https://colab.research.google.com/assets/colab-badge.svg\" alt=\"Open In Colab\"/></a>"
      ]
    },
    {
      "cell_type": "code",
      "execution_count": 1,
      "metadata": {
        "id": "wfwykQONNff8"
      },
      "outputs": [],
      "source": [
        "%%capture\n",
        "#!pip install geopandas #==1.0.1\n",
        "!pip install mapclassify #sometimes have to install library which you get from https://pypi.org/"
      ]
    },
    {
      "cell_type": "code",
      "source": [
        "import os, zipfile #basics\n",
        "import pandas as pd #data management\n",
        "import matplotlib.pyplot as plt #vis\n",
        "\n",
        "import geopandas as gpd #gis/maps: a sister of pandas; does the job;\n",
        "#tho not as fancy-interactive as folium or leafmap https://geopandas.org/\n",
        "\n",
        "import mapclassify #need for thematic map classification\n",
        "\n",
        "import seaborn as sns\n",
        "\n",
        "#will display all output not just last command\n",
        "from IPython.core.interactiveshell import InteractiveShell\n",
        "InteractiveShell.ast_node_interactivity = \"all\"\n",
        "\n",
        "from google.colab import files #to download from colab onto hd\n",
        "\n",
        "#from google.colab import data_table\n",
        "#data_table.enable_dataframe_formatter() #this enables spreadsheet view upon calling dataframe (without() )\n",
        "from google.colab.data_table import DataTable\n",
        "DataTable.max_columns = 250"
      ],
      "metadata": {
        "id": "3A5z9X_uNjhu"
      },
      "execution_count": 2,
      "outputs": []
    },
    {
      "cell_type": "code",
      "source": [
        "#!python --version\n",
        "gpd.__version__"
      ],
      "metadata": {
        "colab": {
          "base_uri": "https://localhost:8080/",
          "height": 35
        },
        "id": "M1hjgvh3Nqp2",
        "outputId": "40aac3ca-884c-46fe-a668-1cc51ccc3acf"
      },
      "execution_count": 3,
      "outputs": [
        {
          "output_type": "execute_result",
          "data": {
            "text/plain": [
              "'1.1.1'"
            ],
            "application/vnd.google.colaboratory.intrinsic+json": {
              "type": "string"
            }
          },
          "metadata": {},
          "execution_count": 3
        }
      ]
    },
    {
      "cell_type": "code",
      "source": [],
      "metadata": {
        "id": "L1VJE516peDR"
      },
      "execution_count": null,
      "outputs": []
    },
    {
      "cell_type": "code",
      "source": [
        "! wget -q -O Tx_Bndry_Detail_TIGER500k.zip https://github.com/Nemipatel210/GIS/raw/67ccb7061dcce7b130d3d0d1d1212f47fd35cf5d/Tx_Bndry_Detail_TIGER500k.zip"
      ],
      "metadata": {
        "id": "GT5geYjwn6Gh"
      },
      "execution_count": 12,
      "outputs": []
    },
    {
      "cell_type": "code",
      "source": [
        "zip_ref = zipfile.ZipFile('Tx_Bndry_Detail_TIGER500k.zip', 'r'); zip_ref.extractall(); zip_ref.close() #just unzipping"
      ],
      "metadata": {
        "id": "jSG-tU-Bpw9H"
      },
      "execution_count": 13,
      "outputs": []
    },
    {
      "cell_type": "code",
      "source": [
        "!ls"
      ],
      "metadata": {
        "colab": {
          "base_uri": "https://localhost:8080/"
        },
        "id": "97lk2RTop2qD",
        "outputId": "a38d84fc-9753-4d1d-85cc-13785be22e82"
      },
      "execution_count": 14,
      "outputs": [
        {
          "output_type": "stream",
          "name": "stdout",
          "text": [
            "nj-counties.zip\t\t       Tx_Bndry_Detail_TIGER500k.sbx\n",
            "sample_data\t\t       Tx_Bndry_Detail_TIGER500k.shp\n",
            "Tx_Bndry_Detail_TIGER500k.cpg  Tx_Bndry_Detail_TIGER500k.shp.xml\n",
            "Tx_Bndry_Detail_TIGER500k.dbf  Tx_Bndry_Detail_TIGER500k.shx\n",
            "Tx_Bndry_Detail_TIGER500k.prj  Tx_Bndry_Detail_TIGER500k.zip\n",
            "Tx_Bndry_Detail_TIGER500k.sbn\n"
          ]
        }
      ]
    },
    {
      "cell_type": "code",
      "source": [
        "njC0=gpd.read_file('Tx_Bndry_Detail_TIGER500k.shp') #load the shapefile with gpd as njC"
      ],
      "metadata": {
        "id": "XocUx-AOqLFA"
      },
      "execution_count": 15,
      "outputs": []
    },
    {
      "cell_type": "code",
      "source": [
        "njC0.plot()"
      ],
      "metadata": {
        "colab": {
          "base_uri": "https://localhost:8080/",
          "height": 448
        },
        "id": "IQdTCeUHqQGm",
        "outputId": "b0ce9ed4-9b73-4c95-eb26-ae421db61fcc"
      },
      "execution_count": 16,
      "outputs": [
        {
          "output_type": "execute_result",
          "data": {
            "text/plain": [
              "<Axes: >"
            ]
          },
          "metadata": {},
          "execution_count": 16
        },
        {
          "output_type": "display_data",
          "data": {
            "text/plain": [
              "<Figure size 640x480 with 1 Axes>"
            ],
            "image/png": "[encoded data removed]"
          },
          "metadata": {}
        }
      ]
    },
    {
      "cell_type": "code",
      "source": [],
      "metadata": {
        "id": "j0P4aIIrqRsJ"
      },
      "execution_count": null,
      "outputs": []
    }
  ]
}